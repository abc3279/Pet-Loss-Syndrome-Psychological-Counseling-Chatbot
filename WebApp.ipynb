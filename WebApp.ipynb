{
  "cells": [
    {
      "cell_type": "code",
      "execution_count": null,
      "metadata": {
        "colab": {
          "base_uri": "https://localhost:8080/"
        },
        "collapsed": true,
        "id": "uqRFAqyYTSuM",
        "outputId": "ee875ed4-98a3-45bf-cbde-a793df88ce13"
      },
      "outputs": [],
      "source": [
        "! pip install gradio"
      ]
    },
    {
      "cell_type": "code",
      "execution_count": null,
      "metadata": {
        "id": "6poK3-dBTSuN"
      },
      "outputs": [],
      "source": [
        "import gradio as gr\n",
        "import openai\n",
        "\n",
        "from dotenv import load_dotenv"
      ]
    },
    {
      "cell_type": "code",
      "execution_count": null,
      "metadata": {
        "id": "t3Z99xahTSuN"
      },
      "outputs": [],
      "source": [
        "# Settings\n",
        "load_dotenv()\n",
        "\n",
        "model = \"gpt-4o\""
      ]
    },
    {
      "cell_type": "code",
      "execution_count": null,
      "metadata": {
        "id": "QOezDTgxT6l2"
      },
      "outputs": [],
      "source": [
        "# Prompt Engineering\n",
        "\n",
        "name = \"김두현\"\n",
        "petname = \"아지\"\n",
        "typeOfPet = \"dog\"\n",
        "details = \"\"\"\n",
        "Breed: Golden Retriever\n",
        "Birthday: September 7, 2004\n",
        "Personality: Loved people, was affectionate, and got along well with children.\n",
        "Preferences: Preferred treats over regular food, especially chicken treats.\n",
        "Walks: Enjoyed going for walks.\n",
        "\n",
        "Health Records:\n",
        "1. January 12, 2005: Received the first vaccination.\n",
        "2. February 18, 2013: Visited the vet for a nail injury, which healed quickly.\n",
        "3. June 15, 2017: Underwent scaling for dental care.\n",
        "4. September 1, 2021: Health began to decline, leading to reduced activity and more time spent resting indoors with family in a calm setting.\n",
        "5. February 3, 2022: Peacefully crossed the rainbow bridge.\n",
        "\n",
        "Memories:\n",
        "1. May 30, 2016: Enjoyed rolling in the sand while at the beach with family and seemed happy.\n",
        "2. July 12, 2019: Loved being petted by passersby during a walk at Seoul Grand Park, enjoying a joyful day.\n",
        "3. December 24, 2020: Experienced the first snowy walk on Christmas Eve, catching snowflakes in the mouth and running around.\n",
        "4. August 10, 2021: Celebrated the last birthday happily with a homemade dog cake made by the family.\n",
        "5. April 15, 2014: Met new puppy friends at the park for the first time and learned how to play with them.\n",
        "6. October 1, 2017: Went to see the autumn leaves with family, joyfully running through the fallen leaves.\n",
        "7. July 22, 2015: Had fun playing in the water near a waterfall on a summer day and learned to swim for the first time, enjoying it immensely.\n",
        "8. March 3, 2018: Visited a dog café with a new puppy friend and enjoyed playing with toys.\n",
        "9. September 11, 2016: During the Chuseok holiday, took a commemorative photo in traditional Korean clothing with the whole family.\n",
        "10. April 5, 2021: Walked along the cherry blossom path, taking many photos with family on a day when cherry blossoms were in full bloom.\n",
        "\"\"\"\n",
        "\n",
        "messages = []\n",
        "\n",
        "messages.append({\"role\": \"system\",\n",
        "                 \"content\": \"You are currently a counselor comforting someone experiencing pet loss syndrome. \"+\n",
        "                 \"Use gentle and warm language with the client. Use respectful language in Korean, such as the '해요' form, \"+\n",
        "                 \"but keep it soft rather than too formal. Make sure to use only Korean sentences.\"})\n",
        "\n",
        "messages.append({\"role\": \"system\",\n",
        "                 \"content\":\n",
        "                 \"1. Name of the client: \" + name + ', ' +\n",
        "                 \"2. Name of the pet: \" + petname + ', ' +\n",
        "                 \"3. Breed of the pet: \" + typeOfPet + ', ' +\n",
        "                 \"4. Details of the pet: \" + details + ', '})\n",
        "\n",
        "messages.append({\"role\": \"system\",\n",
        "                 \"content\":\n",
        "                 \"Three attitudes a pet loss counselor should have: \" + ', ' +\n",
        "\n",
        "                 \"1. Compassion: A pet loss counselor should approach clients with genuine kindness, \" +\n",
        "                 \"offering emotional support while acknowledging the deep sadness that comes with losing a beloved pet. \"+\n",
        "                 \"This helps clients feel understood and less isolated in their grief.\" + ', ' +\n",
        "\n",
        "                 \"2. Active Listening: It's important for a counselor to listen attentively, \" +\n",
        "                 \"allowing clients to fully express their feelings and experiences. \" +\n",
        "                 \"This shows respect for their emotional process and helps in building trust.\" + ', ' +\n",
        "\n",
        "                 \"3. Reassurance: A counselor should provide gentle reassurance, \" +\n",
        "                 \"reminding clients that their grief is natural and that healing takes time. \" +\n",
        "                 \"This can help alleviate feelings of guilt or confusion during the mourning process.\" + ', '})\n",
        "\n",
        "messages.append({\"role\": \"system\",\n",
        "                 \"content\":\n",
        "                 \"Three attitudes a pet loss counselor must absolutely avoid: \" + ', ' +\n",
        "\n",
        "                 \"1. Dismissiveness: A pet loss counselor should avoid trivializing the grief of the client, \" +\n",
        "                 \"such as saying 'It was just a pet' or 'You'll get over it soon.' \"+\n",
        "                 \"This invalidates the deep emotional connection people have with their pets\" +\n",
        "                 \"and can make clients feel misunderstood.\" + ', ' +\n",
        "\n",
        "                 \"2. Impatience: Rushing clients through their grief process or pushing them to 'move on' \" +\n",
        "                 \"too quickly is harmful. Grief is unique to each individual, and forcing them to speed up \" +\n",
        "                 \"their healing can lead to unresolved feelings.\" + ', ' +\n",
        "\n",
        "                 \"3. Overly Clinical or Detached Behavior: A counselor should avoid being overly\" +\n",
        "                 \"analytical or distant, focusing too much on technical aspects rather than emotional support.\" +\n",
        "                 \"A lack of warmth can make clients feel like they are just another case, \" +\n",
        "                 \"rather than someone in need of compassionate care.\" + ', '})\n",
        "\n",
        "messages.append({\"role\": \"system\",\n",
        "                 \"content\":\n",
        "                 \"Precautions during counseling: \" + ', ' +\n",
        "\n",
        "                 \"1. When addressing the client, politely use the client's given name. \" +\n",
        "                 \"Do not refer to them using terms like 'you' or 'the client' within sentences.\" + ', ' +\n",
        "\n",
        "                 \"2. Counsel based on the provided information about the pet.\" + ', ' +\n",
        "\n",
        "                 \"3. Use respectful language, but ensure the counseling is gentle. \" +\n",
        "                 \"Avoid using overly formal or stiff expressions.\" + ', ' +\n",
        "\n",
        "                 \"4. Do not focus on sad topics. If the conversation continues in a sad direction, \" +\n",
        "                 \"use the pet's details to ask questions and steer the conversation to a different topic.\" + ', ' +\n",
        "\n",
        "                 \"5. Respond from the counselor's perspective. \" + ', ' +\n",
        "\n",
        "                 \"6. Please respond according to Korean spelling and grammar rules.\" ', ' +\n",
        "\n",
        "                 \"7. Do not mention information about the pet unless the client brings it up in the conversation first. \" +\n",
        "                 \"However, use the pet information to guide your questions.\"})"
      ]
    },
    {
      "cell_type": "code",
      "execution_count": null,
      "metadata": {
        "colab": {
          "background_save": true,
          "base_uri": "https://localhost:8080/",
          "height": 649
        },
        "id": "1h-rH6e1TSuP",
        "outputId": "1567ef21-843c-4417-a449-a40e2cb138d0"
      },
      "outputs": [
        {
          "name": "stderr",
          "output_type": "stream",
          "text": [
            "/usr/local/lib/python3.10/dist-packages/gradio/components/chatbot.py:225: UserWarning: You have not specified a value for the `type` parameter. Defaulting to the 'tuples' format for chatbot messages, but this is deprecated and will be removed in a future version of Gradio. Please set type='messages' instead, which uses openai-style 'role' and 'content' keys.\n",
            "  warnings.warn(\n"
          ]
        },
        {
          "name": "stdout",
          "output_type": "stream",
          "text": [
            "Colab notebook detected. This cell will run indefinitely so that you can see errors and logs. To turn off, set debug=False in launch().\n",
            "* Running on public URL: https://05dc07526b4950239c.gradio.live\n",
            "\n",
            "This share link expires in 72 hours. For free permanent hosting and GPU upgrades, run `gradio deploy` from the terminal in the working directory to deploy to Hugging Face Spaces (https://huggingface.co/spaces)\n"
          ]
        },
        {
          "data": {
            "text/html": [
              "<div><iframe src=\"https://05dc07526b4950239c.gradio.live\" width=\"100%\" height=\"500\" allow=\"autoplay; camera; microphone; clipboard-read; clipboard-write;\" frameborder=\"0\" allowfullscreen></iframe></div>"
            ],
            "text/plain": [
              "<IPython.core.display.HTML object>"
            ]
          },
          "metadata": {},
          "output_type": "display_data"
        }
      ],
      "source": [
        "# Web App\n",
        "def predict(input, history):\n",
        "    history.append({\"role\": \"user\",\n",
        "                    \"content\": input})\n",
        "\n",
        "    gpt_response = openai.chat.completions.create(model = model, messages = history, temperature=0.5, top_p=1.0)\n",
        "    response = gpt_response.choices[0].message.content\n",
        "\n",
        "    history.append({\"role\": \"assistant\",\n",
        "                     \"content\": response})\n",
        "\n",
        "    messages = [(history[i][\"content\"], history[i+1][\"content\"]) for i in range(5, len(history), 2)]\n",
        "\n",
        "    return messages, history\n",
        "\n",
        "with gr.Blocks() as demo:\n",
        "    chatchot = gr.Chatbot(label = \"ChatBot\")\n",
        "\n",
        "    state = gr.State(messages)\n",
        "\n",
        "    with gr.Row():\n",
        "        txt = gr.Textbox(show_label= False, placeholder=\"상담 내용을 입력하세요.\")#.style(container=False)\n",
        "\n",
        "    txt.submit(predict, [txt, state], [chatchot, state])\n",
        "\n",
        "demo.launch(debug=True, share = True)"
      ]
    }
  ],
  "metadata": {
    "colab": {
      "provenance": []
    },
    "kernelspec": {
      "display_name": "Python 3",
      "language": "python",
      "name": "python3"
    },
    "language_info": {
      "codemirror_mode": {
        "name": "ipython",
        "version": 3
      },
      "file_extension": ".py",
      "mimetype": "text/x-python",
      "name": "python",
      "nbconvert_exporter": "python",
      "pygments_lexer": "ipython3",
      "version": "3.7.2"
    }
  },
  "nbformat": 4,
  "nbformat_minor": 0
}
